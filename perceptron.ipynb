{
 "cells": [
  {
   "cell_type": "markdown",
   "metadata": {},
   "source": [
    "**論理回路をPythonで実装**<br>\n",
    "x1,x2を引数とするAND回路の実装"
   ]
  },
  {
   "cell_type": "markdown",
   "metadata": {},
   "source": [
    "$$\n",
    "    y =\n",
    "        \\begin{cases}\n",
    "            0 (w_1x_1 + w_2x_2 \\leqq \\theta)\\\\\n",
    "            1 (w_1x_1 + w_2x_2 \\geqq \\theta)\\\\\n",
    "        \\end{cases}\n",
    "$$"
   ]
  },
  {
   "cell_type": "code",
   "execution_count": 24,
   "metadata": {},
   "outputs": [],
   "source": [
    "#簡単で単純な実装\n",
    "def AND(x1,x2):\n",
    "    w1, w2, theta = 0.5,0.5,0.7\n",
    "    tmp = x1 * w1 + x2 * w2\n",
    "    if tmp <= theta:\n",
    "        return 0\n",
    "    elif tmp > theta:\n",
    "        return 1"
   ]
  },
  {
   "cell_type": "code",
   "execution_count": 25,
   "metadata": {},
   "outputs": [
    {
     "data": {
      "text/plain": [
       "1"
      ]
     },
     "execution_count": 25,
     "metadata": {},
     "output_type": "execute_result"
    }
   ],
   "source": [
    "AND(0,0) #0を出力\n",
    "AND(0,1) #0を出力\n",
    "AND(1,0) #0を出力\n",
    "AND(1,1) #1を出力"
   ]
  },
  {
   "cell_type": "markdown",
   "metadata": {},
   "source": [
    "$$\n",
    "    y =\n",
    "        \\begin{cases}\n",
    "            0 (b + w_1x_1 + w_2x_2 \\leqq 0)\\\\\n",
    "            1 (b + w_1x_1 + w_2x_2 \\geqq 0)\\\\\n",
    "        \\end{cases}\n",
    "$$"
   ]
  },
  {
   "cell_type": "code",
   "execution_count": 26,
   "metadata": {},
   "outputs": [
    {
     "data": {
      "text/plain": [
       "-0.19999999999999996"
      ]
     },
     "execution_count": 26,
     "metadata": {},
     "output_type": "execute_result"
    }
   ],
   "source": [
    "#バイアス,重みの追加(計算の確認)\n",
    "import numpy as np\n",
    "\n",
    "x = np.array([0,1])\n",
    "w = np.array([0.5,0.5])\n",
    "b = -0.7\n",
    "\n",
    "w * x\n",
    "np.sum(w * x)\n",
    "np.sum(w * x) + b"
   ]
  },
  {
   "cell_type": "code",
   "execution_count": 27,
   "metadata": {},
   "outputs": [],
   "source": [
    "#重みとバイアスによる実装\n",
    "def AND(x1, x2):\n",
    "    x = np.array([x1, x2])\n",
    "    w = np.array([0.5, 0.5])\n",
    "    b = -0.7\n",
    "\n",
    "    tmp = np.sum(w * x) + b\n",
    "\n",
    "    if tmp <= 0:\n",
    "        return 0\n",
    "    else:\n",
    "        return 1"
   ]
  },
  {
   "cell_type": "code",
   "execution_count": 28,
   "metadata": {},
   "outputs": [
    {
     "data": {
      "text/plain": [
       "1"
      ]
     },
     "execution_count": 28,
     "metadata": {},
     "output_type": "execute_result"
    }
   ],
   "source": [
    "AND(0,0) #0を出力\n",
    "AND(0,1) #0を出力\n",
    "AND(1,0) #0を出力\n",
    "AND(1,1) #1を出力"
   ]
  },
  {
   "cell_type": "code",
   "execution_count": 36,
   "metadata": {},
   "outputs": [],
   "source": [
    "#NADNゲート実装\n",
    "#重みとバイアスだけANDと違う\n",
    "def NAND(x1, x2):\n",
    "    x = np.array([x1, x2])\n",
    "    w = np.array([-0.5, -0.5])\n",
    "    b = 0.7\n",
    "\n",
    "    tmp = np.sum(w*x) + b\n",
    "\n",
    "    if tmp <= 0 :\n",
    "        return 0\n",
    "    else :\n",
    "        return 1\n"
   ]
  },
  {
   "cell_type": "code",
   "execution_count": 46,
   "metadata": {},
   "outputs": [
    {
     "data": {
      "text/plain": [
       "1"
      ]
     },
     "execution_count": 46,
     "metadata": {},
     "output_type": "execute_result"
    }
   ],
   "source": [
    "NAND(0,0) #1を出力\n",
    "NAND(0,1) #1を出力\n",
    "NAND(1,0) #1を出力\n",
    "NAND(1,1) #0を出力"
   ]
  },
  {
   "cell_type": "code",
   "execution_count": 47,
   "metadata": {},
   "outputs": [],
   "source": [
    "#ORゲート実装\n",
    "#重みとバイアスだけANDと違う\n",
    "\n",
    "def OR(x1, x2):\n",
    "   x = np.array([x1, x2])\n",
    "   w = np.array([0.5, 0.5])\n",
    "   b = -0.2\n",
    "\n",
    "   tmp = np.sum(w*x) + b\n",
    "   \n",
    "   if tmp <= 0 :\n",
    "      return 0\n",
    "   else :\n",
    "     return 1"
   ]
  },
  {
   "cell_type": "code",
   "execution_count": 52,
   "metadata": {},
   "outputs": [
    {
     "data": {
      "text/plain": [
       "1"
      ]
     },
     "execution_count": 52,
     "metadata": {},
     "output_type": "execute_result"
    }
   ],
   "source": [
    "OR(0,0) #0を出力\n",
    "OR(0,1) #1を出力\n",
    "OR(1,0) #1を出力\n",
    "OR(1,1) #1を出力"
   ]
  }
 ],
 "metadata": {
  "kernelspec": {
   "display_name": "base",
   "language": "python",
   "name": "python3"
  },
  "language_info": {
   "codemirror_mode": {
    "name": "ipython",
    "version": 3
   },
   "file_extension": ".py",
   "mimetype": "text/x-python",
   "name": "python",
   "nbconvert_exporter": "python",
   "pygments_lexer": "ipython3",
   "version": "3.11.5"
  }
 },
 "nbformat": 4,
 "nbformat_minor": 2
}
